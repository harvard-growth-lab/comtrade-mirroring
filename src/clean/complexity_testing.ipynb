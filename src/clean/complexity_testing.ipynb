{
 "cells": [
  {
   "cell_type": "code",
   "execution_count": 1,
   "id": "6079d4a0-b37e-412c-82f9-ce82b380b2d6",
   "metadata": {},
   "outputs": [],
   "source": [
    "import pandas as pd\n",
    "import numpy as np\n",
    "\n",
    "pd.options.display.float_format = '{:.1f}'.format\n",
    "pd.set_option('display.max_columns', None)\n",
    "# pd.set_option('display.max_rows', None)"
   ]
  },
  {
   "cell_type": "code",
   "execution_count": 12,
   "id": "affcf703-9f21-42a1-a72e-6dd528447b78",
   "metadata": {},
   "outputs": [],
   "source": [
    "# stata intermediate data outputs\n",
    "full_data_stata = pd.read_stata(\"../../../stata_files/full_data.dta\")\n",
    "before_mcp_stata = pd.read_stata(\"../../../stata_files/before_mcp_matrix.dta\")\n",
    "rca_stata = pd.read_stata(\"../../../stata_files/mcp_rca_matrix.dta\")\n",
    "mcp_stata = pd.read_stata(\"../../../stata_files/mcp_matrix.dta\")\n",
    "ecomp_stata = pd.read_stata(\"../../../stata_files/ecomplexity.dta\")\n",
    "c_reliable = pd.read_stata(\"../../../stata_files/complexity_reliable_countries.dta\")\n",
    "# c_all = pd.read_stata(\"../../../stata_files/complexity_all_countries.dta\")\n",
    "# c_allcp = pd.read_stata(\"../../../stata_files/complexity_all_countries_all_products.dta\")"
   ]
  },
  {
   "cell_type": "code",
   "execution_count": 3,
   "id": "b3d722d5-4406-44ad-9fd9-4579dcf53aac",
   "metadata": {},
   "outputs": [],
   "source": [
    "# python intermediate data outputs\n",
    "full_data_py = pd.read_parquet(\"../data/intermediate/H0_2015_complexity_all_countries.parquet\")\n",
    "before_mcp_py = pd.read_parquet(\"../data/intermediate/H0_2015_before_mcp.parquet\")\n",
    "rca_py = pd.read_parquet(\"../data/intermediate/H0_2015_mcp_rca.parquet\")\n",
    "mcp_py = pd.read_parquet(\"../data/intermediate/H0_2015_mcp.parquet\")\n",
    "ecomp_py = pd.read_parquet(\"../data/intermediate/H0_2015_complexitytest.parquet\")"
   ]
  },
  {
   "cell_type": "code",
   "execution_count": 4,
   "id": "722f22da-011c-4082-8ad9-fb3db1d53737",
   "metadata": {},
   "outputs": [],
   "source": [
    "def stata_python_data_review(df_stata, df_py, merge_on, value_checks):\n",
    "    print(f\"stata df shape: {df_stata.shape} py df shape {df_py.shape}\")\n",
    "    merged = df_py.merge(df_stata, on=merge_on, how='outer', suffixes=('_py', '_stata'))\n",
    "    errors = pd.DataFrame()\n",
    "    for col in value_checks: \n",
    "        print(f\"reviewing {col}\")\n",
    "        merged[f'{col}_diff'] = merged[f'{col}_stata'] - merged[f'{col}_py']\n",
    "        print(f\"floating point precision is met: {np.isclose(merged[f'{col}_stata'], merged[f'{col}_py']).all() == True}\")\n",
    "        not_close = merged[~np.isclose(merged[f'{col}_stata'], merged[f'{col}_py'])]\n",
    "        errors = pd.concat([errors, not_close])\n",
    "    return merged, errors\n",
    "    "
   ]
  },
  {
   "cell_type": "code",
   "execution_count": 5,
   "id": "7e5fdb47-d313-43ad-ad6d-71c04535b899",
   "metadata": {},
   "outputs": [
    {
     "name": "stdout",
     "output_type": "stream",
     "text": [
      "stata df shape: (289224, 7) py df shape (289224, 7)\n",
      "reviewing export_value\n",
      "floating point precision is met: True\n",
      "reviewing import_value\n",
      "floating point precision is met: True\n"
     ]
    }
   ],
   "source": [
    "# full data \n",
    "full_data_stata = full_data_stata.drop(columns='year')\n",
    "full_data_merged, not_close = stata_python_data_review(full_data_stata, full_data_py, ['exporter', 'commoditycode'], ['export_value', 'import_value'])"
   ]
  },
  {
   "cell_type": "code",
   "execution_count": 6,
   "id": "8626617a-b427-4abe-9c7b-86a434743b4c",
   "metadata": {},
   "outputs": [
    {
     "name": "stdout",
     "output_type": "stream",
     "text": [
      "stata df shape: (163989, 5) py df shape (163989, 5)\n",
      "reviewing export_value\n",
      "floating point precision is met: True\n"
     ]
    }
   ],
   "source": [
    "# before mcp\n",
    "before_mcp_stata.columns, before_mcp_py.columns\n",
    "before_mcp_stata.shape, before_mcp_py.shape\n",
    "before_mcp_merged, not_close = stata_python_data_review(before_mcp_stata, before_mcp_py, ['exporter', 'commoditycode'], ['export_value'])"
   ]
  },
  {
   "cell_type": "code",
   "execution_count": 7,
   "id": "29938d09-7106-4607-8c5f-fafd9a894add",
   "metadata": {},
   "outputs": [
    {
     "name": "stdout",
     "output_type": "stream",
     "text": [
      "stata df shape: (163989, 11) py df shape (163989, 8)\n",
      "reviewing export_value\n",
      "floating point precision is met: True\n",
      "reviewing rca\n",
      "floating point precision is met: True\n",
      "reviewing mcp\n",
      "floating point precision is met: True\n",
      "reviewing HH_index\n",
      "floating point precision is met: True\n"
     ]
    }
   ],
   "source": [
    "# rca matrix\n",
    "rename_dict = {\"HH\": \"HH_index\"}\n",
    "rca_stata = rca_stata.rename(columns = rename_dict)\n",
    "rca_merged, not_close_rca = stata_python_data_review(rca_stata, rca_py, ['exporter', 'commoditycode'], ['export_value', 'rca', 'mcp', 'HH_index'])"
   ]
  },
  {
   "cell_type": "code",
   "execution_count": 8,
   "id": "05da2daa-713f-400f-b688-d42819719207",
   "metadata": {},
   "outputs": [
    {
     "name": "stdout",
     "output_type": "stream",
     "text": [
      "stata df shape: (1233, 11) py df shape (1233, 11)\n",
      "reviewing export_value\n",
      "floating point precision is met: True\n",
      "reviewing HH_index\n",
      "floating point precision is met: True\n",
      "reviewing mcp\n",
      "floating point precision is met: True\n",
      "reviewing share\n",
      "floating point precision is met: True\n",
      "reviewing exclude_flag\n",
      "floating point precision is met: True\n"
     ]
    }
   ],
   "source": [
    "# mcp\n",
    "rename_dict = {\n",
    "    'HH': 'HH_index',\n",
    "    'cumshare': 'cumul_share',\n",
    "    'ene': 'eff_exporters',\n",
    "    'c1': 'flag_for_small_share',\n",
    "    'c2': 'flag_for_few_exporters',\n",
    "    'c3': 'flag_for_low_ubiquity',\n",
    "    'call': 'exclude_flag'\n",
    "}\n",
    "\n",
    "mcp_stata = mcp_stata.rename(columns = rename_dict)\n",
    "mcp_cols = ['commoditycode', 'export_value', 'HH_index', 'mcp', 'share',\n",
    "        'cumul_share', 'eff_exporters', 'flag_for_small_share',\n",
    "        'flag_for_few_exporters', 'flag_for_low_ubiquity', 'exclude_flag']\n",
    "mcp_merged = stata_python_data_review(mcp_stata, mcp_py, ['commoditycode'], ['export_value', 'HH_index', 'mcp', 'share', 'exclude_flag'])"
   ]
  },
  {
   "cell_type": "code",
   "execution_count": 10,
   "id": "73e402aa-8508-4199-ae15-54ad36f64e96",
   "metadata": {},
   "outputs": [
    {
     "name": "stdout",
     "output_type": "stream",
     "text": [
      "stata df shape: (150822, 14) py df shape (150822, 13)\n",
      "reviewing export_value\n",
      "floating point precision is met: True\n",
      "reviewing diversity\n",
      "floating point precision is met: True\n",
      "reviewing ubiquity\n",
      "floating point precision is met: True\n",
      "reviewing mcp\n",
      "floating point precision is met: True\n",
      "reviewing eci\n",
      "floating point precision is met: True\n",
      "reviewing pci\n",
      "floating point precision is met: True\n",
      "reviewing density\n",
      "floating point precision is met: False\n",
      "reviewing coi\n",
      "floating point precision is met: False\n",
      "reviewing cog\n",
      "floating point precision is met: False\n",
      "reviewing rca\n",
      "floating point precision is met: True\n"
     ]
    }
   ],
   "source": [
    "# ecomp\n",
    "ecomp_py.shape, ecomp_stata.shape\n",
    "ecomp_py.columns, ecomp_stata.columns\n",
    "ecomp_stata = ecomp_stata.rename(columns={'M': 'mcp'})\n",
    "ecomp_stata = ecomp_stata.astype({\n",
    "    'exporter': 'object',\n",
    "    'commoditycode': 'object',\n",
    "    'export_value': 'float32',\n",
    "    'diversity': 'int64',\n",
    "    'ubiquity': 'int64',\n",
    "    'mcp': 'int64',\n",
    "    'eci': 'float64',\n",
    "    'pci': 'float64',\n",
    "    'density': 'float64',\n",
    "    'coi': 'float64',\n",
    "    'cog': 'float64',\n",
    "    'rca': 'float32'\n",
    "})\n",
    "ecomp_merged, not_close_ecomp = stata_python_data_review(ecomp_stata, ecomp_py, ['exporter', 'commoditycode'], ['export_value', 'diversity', 'ubiquity', 'mcp', 'eci', 'pci', 'density', 'coi', 'cog', 'rca'])"
   ]
  },
  {
   "cell_type": "code",
   "execution_count": 11,
   "id": "f70d62da-de37-4cdc-a604-814ed664ecc3",
   "metadata": {},
   "outputs": [
    {
     "data": {
      "text/html": [
       "<div>\n",
       "<style scoped>\n",
       "    .dataframe tbody tr th:only-of-type {\n",
       "        vertical-align: middle;\n",
       "    }\n",
       "\n",
       "    .dataframe tbody tr th {\n",
       "        vertical-align: top;\n",
       "    }\n",
       "\n",
       "    .dataframe thead th {\n",
       "        text-align: right;\n",
       "    }\n",
       "</style>\n",
       "<table border=\"1\" class=\"dataframe\">\n",
       "  <thead>\n",
       "    <tr style=\"text-align: right;\">\n",
       "      <th></th>\n",
       "      <th>year</th>\n",
       "      <th>exporter</th>\n",
       "      <th>commoditycode</th>\n",
       "      <th>export_value_py</th>\n",
       "      <th>export_value_stata</th>\n",
       "      <th>export_value_diff</th>\n",
       "      <th>diversity_py</th>\n",
       "      <th>diversity_stata</th>\n",
       "      <th>diversity_diff</th>\n",
       "      <th>ubiquity_py</th>\n",
       "      <th>ubiquity_stata</th>\n",
       "      <th>ubiquity_diff</th>\n",
       "      <th>mcp_py</th>\n",
       "      <th>mcp_stata</th>\n",
       "      <th>mcp_diff</th>\n",
       "      <th>eci_py</th>\n",
       "      <th>eci_stata</th>\n",
       "      <th>eci_diff</th>\n",
       "      <th>pci_py</th>\n",
       "      <th>pci_stata</th>\n",
       "      <th>pci_diff</th>\n",
       "      <th>density_py</th>\n",
       "      <th>density_stata</th>\n",
       "      <th>density_diff</th>\n",
       "      <th>coi_py</th>\n",
       "      <th>coi_stata</th>\n",
       "      <th>coi_diff</th>\n",
       "      <th>cog_py</th>\n",
       "      <th>cog_stata</th>\n",
       "      <th>cog_diff</th>\n",
       "      <th>rca_py</th>\n",
       "      <th>rca_stata</th>\n",
       "      <th>rca_diff</th>\n",
       "      <th>population</th>\n",
       "      <th>gdp_pc</th>\n",
       "    </tr>\n",
       "  </thead>\n",
       "  <tbody>\n",
       "  </tbody>\n",
       "</table>\n",
       "</div>"
      ],
      "text/plain": [
       "Empty DataFrame\n",
       "Columns: [year, exporter, commoditycode, export_value_py, export_value_stata, export_value_diff, diversity_py, diversity_stata, diversity_diff, ubiquity_py, ubiquity_stata, ubiquity_diff, mcp_py, mcp_stata, mcp_diff, eci_py, eci_stata, eci_diff, pci_py, pci_stata, pci_diff, density_py, density_stata, density_diff, coi_py, coi_stata, coi_diff, cog_py, cog_stata, cog_diff, rca_py, rca_stata, rca_diff, population, gdp_pc]\n",
       "Index: []"
      ]
     },
     "execution_count": 11,
     "metadata": {},
     "output_type": "execute_result"
    }
   ],
   "source": [
    "cols = ['year', 'exporter', 'commoditycode', \n",
    "          'export_value_py', 'export_value_stata', 'export_value_diff',\n",
    "          'diversity_py', 'diversity_stata', 'diversity_diff',\n",
    "          'ubiquity_py', 'ubiquity_stata', 'ubiquity_diff',\n",
    "          'mcp_py', 'mcp_stata', 'mcp_diff',\n",
    "          'eci_py', 'eci_stata', 'eci_diff',\n",
    "          'pci_py', 'pci_stata', 'pci_diff',\n",
    "          'density_py', 'density_stata', 'density_diff',\n",
    "          'coi_py', 'coi_stata', 'coi_diff',\n",
    "          'cog_py', 'cog_stata', 'cog_diff',\n",
    "          'rca_py', 'rca_stata', 'rca_diff',\n",
    "          'population', 'gdp_pc']\n",
    "not_close_ecomp = not_close_ecomp[cols]\n",
    "ecomp_merged = ecomp_merged[cols]\n",
    "ecomp_merged[ecomp_merged.cog_diff>0.1]"
   ]
  },
  {
   "cell_type": "code",
   "execution_count": 15,
   "id": "f4ef293a-187a-4b66-982b-2eb1e7e5f00e",
   "metadata": {},
   "outputs": [
    {
     "data": {
      "text/html": [
       "<div>\n",
       "<style scoped>\n",
       "    .dataframe tbody tr th:only-of-type {\n",
       "        vertical-align: middle;\n",
       "    }\n",
       "\n",
       "    .dataframe tbody tr th {\n",
       "        vertical-align: top;\n",
       "    }\n",
       "\n",
       "    .dataframe thead th {\n",
       "        text-align: right;\n",
       "    }\n",
       "</style>\n",
       "<table border=\"1\" class=\"dataframe\">\n",
       "  <thead>\n",
       "    <tr style=\"text-align: right;\">\n",
       "      <th></th>\n",
       "      <th>exporter</th>\n",
       "      <th>commoditycode</th>\n",
       "      <th>export_value</th>\n",
       "      <th>population</th>\n",
       "      <th>gdp_pc</th>\n",
       "      <th>rca1</th>\n",
       "      <th>M</th>\n",
       "      <th>density1</th>\n",
       "      <th>eci1</th>\n",
       "      <th>pci1</th>\n",
       "      <th>diversity</th>\n",
       "      <th>ubiquity</th>\n",
       "      <th>coi</th>\n",
       "      <th>cog</th>\n",
       "    </tr>\n",
       "  </thead>\n",
       "  <tbody>\n",
       "    <tr>\n",
       "      <th>0</th>\n",
       "      <td>AGO</td>\n",
       "      <td>0101</td>\n",
       "      <td>0.0</td>\n",
       "      <td>28127720.0</td>\n",
       "      <td>3100.8</td>\n",
       "      <td>0.0</td>\n",
       "      <td>0.0</td>\n",
       "      <td>0.0</td>\n",
       "      <td>-1.1</td>\n",
       "      <td>-0.1</td>\n",
       "      <td>8.0</td>\n",
       "      <td>15.0</td>\n",
       "      <td>-1.2</td>\n",
       "      <td>0.5</td>\n",
       "    </tr>\n",
       "    <tr>\n",
       "      <th>1</th>\n",
       "      <td>AGO</td>\n",
       "      <td>0102</td>\n",
       "      <td>1114.0</td>\n",
       "      <td>28127720.0</td>\n",
       "      <td>3100.8</td>\n",
       "      <td>0.0</td>\n",
       "      <td>0.0</td>\n",
       "      <td>0.0</td>\n",
       "      <td>-1.1</td>\n",
       "      <td>-0.6</td>\n",
       "      <td>8.0</td>\n",
       "      <td>41.0</td>\n",
       "      <td>-1.2</td>\n",
       "      <td>-0.1</td>\n",
       "    </tr>\n",
       "    <tr>\n",
       "      <th>2</th>\n",
       "      <td>AGO</td>\n",
       "      <td>0103</td>\n",
       "      <td>0.0</td>\n",
       "      <td>28127720.0</td>\n",
       "      <td>3100.8</td>\n",
       "      <td>0.0</td>\n",
       "      <td>0.0</td>\n",
       "      <td>0.0</td>\n",
       "      <td>-1.1</td>\n",
       "      <td>0.5</td>\n",
       "      <td>8.0</td>\n",
       "      <td>17.0</td>\n",
       "      <td>-1.2</td>\n",
       "      <td>0.6</td>\n",
       "    </tr>\n",
       "    <tr>\n",
       "      <th>3</th>\n",
       "      <td>AGO</td>\n",
       "      <td>0104</td>\n",
       "      <td>0.0</td>\n",
       "      <td>28127720.0</td>\n",
       "      <td>3100.8</td>\n",
       "      <td>0.0</td>\n",
       "      <td>0.0</td>\n",
       "      <td>0.0</td>\n",
       "      <td>-1.1</td>\n",
       "      <td>-1.4</td>\n",
       "      <td>8.0</td>\n",
       "      <td>21.0</td>\n",
       "      <td>-1.2</td>\n",
       "      <td>-0.2</td>\n",
       "    </tr>\n",
       "    <tr>\n",
       "      <th>4</th>\n",
       "      <td>AGO</td>\n",
       "      <td>0105</td>\n",
       "      <td>9279.8</td>\n",
       "      <td>28127720.0</td>\n",
       "      <td>3100.8</td>\n",
       "      <td>0.0</td>\n",
       "      <td>0.0</td>\n",
       "      <td>0.0</td>\n",
       "      <td>-1.1</td>\n",
       "      <td>-0.0</td>\n",
       "      <td>8.0</td>\n",
       "      <td>33.0</td>\n",
       "      <td>-1.2</td>\n",
       "      <td>0.3</td>\n",
       "    </tr>\n",
       "  </tbody>\n",
       "</table>\n",
       "</div>"
      ],
      "text/plain": [
       "  exporter commoditycode  export_value  population  gdp_pc  rca1   M  \\\n",
       "0      AGO          0101           0.0  28127720.0  3100.8   0.0 0.0   \n",
       "1      AGO          0102        1114.0  28127720.0  3100.8   0.0 0.0   \n",
       "2      AGO          0103           0.0  28127720.0  3100.8   0.0 0.0   \n",
       "3      AGO          0104           0.0  28127720.0  3100.8   0.0 0.0   \n",
       "4      AGO          0105        9279.8  28127720.0  3100.8   0.0 0.0   \n",
       "\n",
       "   density1  eci1  pci1  diversity  ubiquity  coi  cog  \n",
       "0       0.0  -1.1  -0.1        8.0      15.0 -1.2  0.5  \n",
       "1       0.0  -1.1  -0.6        8.0      41.0 -1.2 -0.1  \n",
       "2       0.0  -1.1   0.5        8.0      17.0 -1.2  0.6  \n",
       "3       0.0  -1.1  -1.4        8.0      21.0 -1.2 -0.2  \n",
       "4       0.0  -1.1  -0.0        8.0      33.0 -1.2  0.3  "
      ]
     },
     "execution_count": 15,
     "metadata": {},
     "output_type": "execute_result"
    }
   ],
   "source": [
    "# reliable country set\n",
    "c_reliable.head()"
   ]
  },
  {
   "cell_type": "code",
   "execution_count": null,
   "id": "765b181c-6f24-4ce5-9e44-28c785a8cfcf",
   "metadata": {},
   "outputs": [],
   "source": []
  }
 ],
 "metadata": {
  "kernelspec": {
   "display_name": "Python 3",
   "language": "python",
   "name": "python3"
  },
  "language_info": {
   "codemirror_mode": {
    "name": "ipython",
    "version": 3
   },
   "file_extension": ".py",
   "mimetype": "text/x-python",
   "name": "python",
   "nbconvert_exporter": "python",
   "pygments_lexer": "ipython3",
   "version": "3.8.8"
  }
 },
 "nbformat": 4,
 "nbformat_minor": 5
}
