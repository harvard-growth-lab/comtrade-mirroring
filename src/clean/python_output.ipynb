{
 "cells": [
  {
   "cell_type": "code",
   "execution_count": 1,
   "id": "3ea955dc-ce9a-4582-ba52-a3a91e184cf8",
   "metadata": {},
   "outputs": [],
   "source": [
    "import pandas as pd\n",
    "pd.options.display.float_format = '{:.1f}'.format\n",
    "# pd.set_option('display.max_columns', None)\n",
    "pd.set_option('display.max_rows', None)"
   ]
  },
  {
   "cell_type": "code",
   "execution_count": 6,
   "id": "223a6294-d195-4cbd-9e18-36de9c240827",
   "metadata": {},
   "outputs": [],
   "source": [
    "# country country product year\n",
    "py_acc = pd.read_parquet(\"../data/intermediate/H0_2022_accuracy.parquet\")\n",
    "py_ccpy = pd.read_parquet(\"../data/processed/H0_2022_country_country_product_year.parquet\")\n",
    "py_ccy = pd.read_parquet(\"../data/intermediate/H0_2022_country_country_year.parquet\")"
   ]
  },
  {
   "cell_type": "code",
   "execution_count": 10,
   "id": "a924ad81-99ec-4458-9fb9-b558f05a2e70",
   "metadata": {},
   "outputs": [
    {
     "data": {
      "text/plain": [
       "array(['CHN', 'JPN', 'HKG', 'ISR', 'MEX', 'ARE', 'ARG', 'AUT', 'AZE',\n",
       "       'BEL', 'BFA', 'BGR', 'BOL', 'BRA', 'CAN', 'CHE', 'CHL', 'COL',\n",
       "       'CRI', 'CYP', 'CZE', 'DEU', 'DNK', 'DOM', 'ECU', 'ESP', 'EST',\n",
       "       'FIN', 'FRA', 'GBR', 'GRC', 'GTM', 'GUY', 'HRV', 'HUN', 'IDN',\n",
       "       'IND', 'IRL', 'ITA', 'JAM', 'KOR', 'LBN', 'LTU', 'LUX', 'MYS',\n",
       "       'NIC', 'NLD', 'NOR', 'NZL', 'OMN', 'PAK', 'PAN', 'PER', 'PHL',\n",
       "       'POL', 'PRT', 'PRY', 'SGP', 'SLV', 'SUR', 'SVK', 'SVN', 'SWE',\n",
       "       'THA', 'TTO', 'TUR', 'TWN', 'URY', 'USA', 'ZAF', 'ARM', 'AUS',\n",
       "       'BIH', 'EGY', 'ETH', 'GEO', 'GHA', 'JOR', 'KAZ', 'KEN', 'KGZ',\n",
       "       'KHM', 'KWT', 'LKA', 'LVA', 'MDA', 'MDG', 'MKD', 'MNE', 'MOZ',\n",
       "       'NPL', 'ROU', 'RWA', 'SRB', 'TJK', 'TUN', 'UKR', 'UZB', 'ZWE',\n",
       "       'ALB', 'BEN', 'BHR', 'BWA', 'CIV', 'COD', 'CPV', 'MAC', 'MAR',\n",
       "       'MLT', 'MMR', 'MRT', 'MUS', 'MWI', 'NAM', 'NER', 'NGA', 'QAT',\n",
       "       'SEN', 'TGO', 'TLS', 'TZA', 'VNM', 'ZMB', 'AGO', 'CAF', 'BDI',\n",
       "       'FJI', 'MNG', 'LSO', 'MDV', 'MSR', 'PSE'], dtype=object)"
      ]
     },
     "execution_count": 10,
     "metadata": {},
     "output_type": "execute_result"
    }
   ],
   "source": [
    "py_ccy.exporter.unique()"
   ]
  },
  {
   "cell_type": "code",
   "execution_count": 9,
   "id": "5f1fb464-f7aa-4329-961b-3fc0890bf5f7",
   "metadata": {},
   "outputs": [
    {
     "data": {
      "text/html": [
       "<div>\n",
       "<style scoped>\n",
       "    .dataframe tbody tr th:only-of-type {\n",
       "        vertical-align: middle;\n",
       "    }\n",
       "\n",
       "    .dataframe tbody tr th {\n",
       "        vertical-align: top;\n",
       "    }\n",
       "\n",
       "    .dataframe thead th {\n",
       "        text-align: right;\n",
       "    }\n",
       "</style>\n",
       "<table border=\"1\" class=\"dataframe\">\n",
       "  <thead>\n",
       "    <tr style=\"text-align: right;\">\n",
       "      <th></th>\n",
       "      <th>exporter</th>\n",
       "      <th>importer</th>\n",
       "      <th>exports_const_usd</th>\n",
       "      <th>imports_const_usd</th>\n",
       "      <th>reporting_discrepancy</th>\n",
       "      <th>export_percentage</th>\n",
       "      <th>import_percentage</th>\n",
       "      <th>importer_nflows</th>\n",
       "      <th>reporting_discrepancy_importer_avg</th>\n",
       "      <th>reporting_discrepancy_importer_total</th>\n",
       "      <th>exporter_nflows</th>\n",
       "      <th>reporting_discrepancy_exporter_avg</th>\n",
       "      <th>reporting_discrepancy_exporter_total</th>\n",
       "    </tr>\n",
       "  </thead>\n",
       "  <tbody>\n",
       "  </tbody>\n",
       "</table>\n",
       "</div>"
      ],
      "text/plain": [
       "Empty DataFrame\n",
       "Columns: [exporter, importer, exports_const_usd, imports_const_usd, reporting_discrepancy, export_percentage, import_percentage, importer_nflows, reporting_discrepancy_importer_avg, reporting_discrepancy_importer_total, exporter_nflows, reporting_discrepancy_exporter_avg, reporting_discrepancy_exporter_total]\n",
       "Index: []"
      ]
     },
     "execution_count": 9,
     "metadata": {},
     "output_type": "execute_result"
    }
   ],
   "source": [
    "country_1 = \"SAU\"\n",
    "country_2 = \"JPN\"\n",
    "py_ccpy[(py_ccpy.exporter==country_1) & (py_ccpy.importer==country_2)]\n",
    "py_acc[(py_acc.exporter==country_1) & (py_acc.importer==country_2)]\n",
    "py_ccy[(py_ccy.exporter==country_1)]"
   ]
  }
 ],
 "metadata": {
  "kernelspec": {
   "display_name": "Python 3",
   "language": "python",
   "name": "python3"
  },
  "language_info": {
   "codemirror_mode": {
    "name": "ipython",
    "version": 3
   },
   "file_extension": ".py",
   "mimetype": "text/x-python",
   "name": "python",
   "nbconvert_exporter": "python",
   "pygments_lexer": "ipython3",
   "version": "3.8.8"
  }
 },
 "nbformat": 4,
 "nbformat_minor": 5
}
